{
 "cells": [
  {
   "cell_type": "markdown",
   "id": "5d4df316",
   "metadata": {},
   "source": [
    "# **Training an Testing**"
   ]
  },
  {
   "cell_type": "code",
   "execution_count": 7,
   "id": "d49ec001",
   "metadata": {},
   "outputs": [],
   "source": [
    "import pandas as pd\n",
    "import numpy as np\n",
    "import matplotlib.pyplot as plt\n",
    "import seaborn as sns\n",
    "import os\n",
    "import joblib"
   ]
  },
  {
   "cell_type": "code",
   "execution_count": 2,
   "id": "7b8e7a92",
   "metadata": {},
   "outputs": [],
   "source": [
    "def load_data_files():\n",
    "\n",
    "    base_dir = os.path.abspath(os.path.dirname(__file__)) if '__file__' in globals() else os.getcwd()\n",
    "\n",
    "    data_dir = os.path.join(base_dir, 'Processed Data')\n",
    "\n",
    "    X_train_path = os.path.join(data_dir, 'X_train_processed.npy')\n",
    "    y_train_path = os.path.join(data_dir, 'y_train_processed.npy')\n",
    "    X_test_path = os.path.join(data_dir, 'X_test_processed.npy')\n",
    "    y_test_path = os.path.join(data_dir, 'y_test_processed.npy')\n",
    "\n",
    "    X_train_mx = np.load(X_train_path, allow_pickle = True).item()\n",
    "    y_train_mx = np.load(y_train_path, allow_pickle = True)\n",
    "    X_test_mx = np.load(X_test_path, allow_pickle = True).item()\n",
    "    y_test_mx = np.load(y_test_path, allow_pickle = True)\n",
    "\n",
    "    X_train = pd.DataFrame(X_train_mx.toarray())\n",
    "    y_train = pd.Series(y_train_mx.ravel())\n",
    "    X_test = pd.DataFrame(X_test_mx.toarray())\n",
    "    y_test = pd.Series(y_test_mx.ravel())\n",
    "\n",
    "    return X_train, y_train, X_test, y_test"
   ]
  },
  {
   "cell_type": "code",
   "execution_count": 3,
   "id": "69760ec3",
   "metadata": {},
   "outputs": [],
   "source": [
    "# Call the function\n",
    "\n",
    "X_train, y_train, X_test, y_test = load_data_files()"
   ]
  },
  {
   "cell_type": "code",
   "execution_count": 11,
   "id": "7fea73d2",
   "metadata": {},
   "outputs": [],
   "source": [
    "def load_column_names():\n",
    "\n",
    "    base_dir = os.path.abspath(os.path.dirname(__file__)) if '__file__' in globals() else os.getcwd()\n",
    "\n",
    "    data_dir = os.path.join(base_dir, 'Processing Objects')\n",
    "\n",
    "    column_names_path = os.path.join(data_dir, 'the_preprocessor.joblib')\n",
    "\n",
    "    column_names_pre = joblib.load(column_names_path)\n",
    "\n",
    "    column_names = column_names_pre.get_feature_names_out()\n",
    "\n",
    "    return column_names"
   ]
  },
  {
   "cell_type": "code",
   "execution_count": 12,
   "id": "5647778f",
   "metadata": {},
   "outputs": [],
   "source": [
    "# Call the function\n",
    "\n",
    "column_names = load_column_names()"
   ]
  },
  {
   "cell_type": "code",
   "execution_count": 18,
   "id": "2af5bf71",
   "metadata": {},
   "outputs": [],
   "source": [
    "# Match the name with the corresponding column\n",
    "\n",
    "X_train.columns = column_names\n",
    "X_test.columns = column_names"
   ]
  }
 ],
 "metadata": {
  "kernelspec": {
   "display_name": "Python 3",
   "language": "python",
   "name": "python3"
  },
  "language_info": {
   "codemirror_mode": {
    "name": "ipython",
    "version": 3
   },
   "file_extension": ".py",
   "mimetype": "text/x-python",
   "name": "python",
   "nbconvert_exporter": "python",
   "pygments_lexer": "ipython3",
   "version": "3.13.1"
  }
 },
 "nbformat": 4,
 "nbformat_minor": 5
}
